{
 "cells": [
  {
   "cell_type": "code",
   "execution_count": 1,
   "metadata": {},
   "outputs": [
    {
     "name": "stdout",
     "output_type": "stream",
     "text": [
      "Requirement already satisfied: Numpy in c:\\users\\taeeu\\anaconda3\\lib\\site-packages (1.19.2)\n",
      "Note: you may need to restart the kernel to use updated packages.\n"
     ]
    }
   ],
   "source": [
    "pip install Numpy"
   ]
  },
  {
   "cell_type": "code",
   "execution_count": 1,
   "metadata": {},
   "outputs": [
    {
     "name": "stdout",
     "output_type": "stream",
     "text": [
      "Requirement already satisfied: SymPy in c:\\users\\taeeu\\anaconda3\\lib\\site-packages (1.6.2)Note: you may need to restart the kernel to use updated packages.\n",
      "Requirement already satisfied: mpmath>=0.19 in c:\\users\\taeeu\\anaconda3\\lib\\site-packages (from SymPy) (1.1.0)\n",
      "\n"
     ]
    }
   ],
   "source": [
    "pip install SymPy"
   ]
  },
  {
   "cell_type": "code",
   "execution_count": 4,
   "metadata": {},
   "outputs": [
    {
     "name": "stdout",
     "output_type": "stream",
     "text": [
      "Requirement already satisfied: SciPy in c:\\users\\taeeu\\anaconda3\\lib\\site-packages (1.5.2)\n",
      "Requirement already satisfied: numpy>=1.14.5 in c:\\users\\taeeu\\anaconda3\\lib\\site-packages (from SciPy) (1.19.2)\n",
      "Note: you may need to restart the kernel to use updated packages.\n"
     ]
    },
    {
     "name": "stderr",
     "output_type": "stream",
     "text": [
      "WARNING: You are using pip version 21.0.1; however, version 21.1.3 is available.\n",
      "You should consider upgrading via the 'C:\\Users\\taeeu\\anaconda3\\python.exe -m pip install --upgrade pip' command.\n"
     ]
    }
   ],
   "source": [
    "pip install SciPy"
   ]
  },
  {
   "cell_type": "code",
   "execution_count": 5,
   "metadata": {},
   "outputs": [
    {
     "name": "stdout",
     "output_type": "stream",
     "text": [
      "Requirement already satisfied: Pandas in c:\\users\\taeeu\\anaconda3\\lib\\site-packages (1.1.3)\n",
      "Requirement already satisfied: numpy>=1.15.4 in c:\\users\\taeeu\\anaconda3\\lib\\site-packages (from Pandas) (1.19.2)\n",
      "Requirement already satisfied: python-dateutil>=2.7.3 in c:\\users\\taeeu\\anaconda3\\lib\\site-packages (from Pandas) (2.8.1)\n",
      "Requirement already satisfied: pytz>=2017.2 in c:\\users\\taeeu\\anaconda3\\lib\\site-packages (from Pandas) (2020.1)\n",
      "Requirement already satisfied: six>=1.5 in c:\\users\\taeeu\\anaconda3\\lib\\site-packages (from python-dateutil>=2.7.3->Pandas) (1.15.0)\n",
      "Note: you may need to restart the kernel to use updated packages.\n"
     ]
    },
    {
     "name": "stderr",
     "output_type": "stream",
     "text": [
      "WARNING: You are using pip version 21.0.1; however, version 21.1.3 is available.\n",
      "You should consider upgrading via the 'C:\\Users\\taeeu\\anaconda3\\python.exe -m pip install --upgrade pip' command.\n"
     ]
    }
   ],
   "source": [
    "pip install Pandas"
   ]
  },
  {
   "cell_type": "code",
   "execution_count": 6,
   "metadata": {},
   "outputs": [
    {
     "name": "stdout",
     "output_type": "stream",
     "text": [
      "Collecting sklearn\n",
      "  Downloading sklearn-0.0.tar.gz (1.1 kB)\n",
      "Requirement already satisfied: scikit-learn in c:\\users\\taeeu\\anaconda3\\lib\\site-packages (from sklearn) (0.23.2)\n",
      "Requirement already satisfied: threadpoolctl>=2.0.0 in c:\\users\\taeeu\\anaconda3\\lib\\site-packages (from scikit-learn->sklearn) (2.1.0)\n",
      "Requirement already satisfied: scipy>=0.19.1 in c:\\users\\taeeu\\anaconda3\\lib\\site-packages (from scikit-learn->sklearn) (1.5.2)\n",
      "Requirement already satisfied: joblib>=0.11 in c:\\users\\taeeu\\anaconda3\\lib\\site-packages (from scikit-learn->sklearn) (0.17.0)\n",
      "Requirement already satisfied: numpy>=1.13.3 in c:\\users\\taeeu\\anaconda3\\lib\\site-packages (from scikit-learn->sklearn) (1.19.2)\n",
      "Building wheels for collected packages: sklearn\n",
      "  Building wheel for sklearn (setup.py): started\n",
      "  Building wheel for sklearn (setup.py): finished with status 'done'\n",
      "  Created wheel for sklearn: filename=sklearn-0.0-py2.py3-none-any.whl size=1321 sha256=6193e846ba0b087ae71c737c78b8cb0c840df656f5375943b89cdeb1143ed782\n",
      "  Stored in directory: c:\\users\\taeeu\\appdata\\local\\pip\\cache\\wheels\\22\\0b\\40\\fd3f795caaa1fb4c6cb738bc1f56100be1e57da95849bfc897\n",
      "Successfully built sklearn\n",
      "Installing collected packages: sklearn\n",
      "Successfully installed sklearn-0.0\n",
      "Note: you may need to restart the kernel to use updated packages.\n"
     ]
    },
    {
     "name": "stderr",
     "output_type": "stream",
     "text": [
      "WARNING: You are using pip version 21.0.1; however, version 21.1.3 is available.\n",
      "You should consider upgrading via the 'C:\\Users\\taeeu\\anaconda3\\python.exe -m pip install --upgrade pip' command.\n"
     ]
    }
   ],
   "source": [
    "pip install sklearn"
   ]
  },
  {
   "cell_type": "code",
   "execution_count": 8,
   "metadata": {},
   "outputs": [
    {
     "name": "stdout",
     "output_type": "stream",
     "text": [
      "Requirement already satisfied: statsmodels in c:\\users\\taeeu\\anaconda3\\lib\\site-packages (0.12.0)\n",
      "Requirement already satisfied: numpy>=1.15 in c:\\users\\taeeu\\anaconda3\\lib\\site-packages (from statsmodels) (1.19.2)\n",
      "Requirement already satisfied: scipy>=1.1 in c:\\users\\taeeu\\anaconda3\\lib\\site-packages (from statsmodels) (1.5.2)\n",
      "Requirement already satisfied: pandas>=0.21 in c:\\users\\taeeu\\anaconda3\\lib\\site-packages (from statsmodels) (1.1.3)\n",
      "Requirement already satisfied: patsy>=0.5 in c:\\users\\taeeu\\anaconda3\\lib\\site-packages (from statsmodels) (0.5.1)\n",
      "Requirement already satisfied: pytz>=2017.2 in c:\\users\\taeeu\\anaconda3\\lib\\site-packages (from pandas>=0.21->statsmodels) (2020.1)\n",
      "Requirement already satisfied: python-dateutil>=2.7.3 in c:\\users\\taeeu\\anaconda3\\lib\\site-packages (from pandas>=0.21->statsmodels) (2.8.1)\n",
      "Requirement already satisfied: six in c:\\users\\taeeu\\anaconda3\\lib\\site-packages (from patsy>=0.5->statsmodels) (1.15.0)\n",
      "Note: you may need to restart the kernel to use updated packages.\n"
     ]
    }
   ],
   "source": [
    "pip install statsmodels"
   ]
  },
  {
   "cell_type": "code",
   "execution_count": 10,
   "metadata": {},
   "outputs": [
    {
     "name": "stdout",
     "output_type": "stream",
     "text": [
      "Requirement already satisfied: matplotlib in c:\\users\\taeeu\\anaconda3\\lib\\site-packages (3.3.2)\n",
      "Requirement already satisfied: numpy>=1.15 in c:\\users\\taeeu\\anaconda3\\lib\\site-packages (from matplotlib) (1.19.2)\n",
      "Requirement already satisfied: python-dateutil>=2.1 in c:\\users\\taeeu\\anaconda3\\lib\\site-packages (from matplotlib) (2.8.1)\n",
      "Requirement already satisfied: kiwisolver>=1.0.1 in c:\\users\\taeeu\\anaconda3\\lib\\site-packages (from matplotlib) (1.3.0)\n",
      "Requirement already satisfied: certifi>=2020.06.20 in c:\\users\\taeeu\\anaconda3\\lib\\site-packages (from matplotlib) (2020.6.20)\n",
      "Requirement already satisfied: pillow>=6.2.0 in c:\\users\\taeeu\\anaconda3\\lib\\site-packages (from matplotlib) (8.0.1)\n",
      "Requirement already satisfied: cycler>=0.10 in c:\\users\\taeeu\\anaconda3\\lib\\site-packages (from matplotlib) (0.10.0)\n",
      "Requirement already satisfied: pyparsing!=2.0.4,!=2.1.2,!=2.1.6,>=2.0.3 in c:\\users\\taeeu\\anaconda3\\lib\\site-packages (from matplotlib) (2.4.7)\n",
      "Requirement already satisfied: six in c:\\users\\taeeu\\anaconda3\\lib\\site-packages (from cycler>=0.10->matplotlib) (1.15.0)\n",
      "Note: you may need to restart the kernel to use updated packages.\n"
     ]
    },
    {
     "name": "stderr",
     "output_type": "stream",
     "text": [
      "WARNING: You are using pip version 21.0.1; however, version 21.1.3 is available.\n",
      "You should consider upgrading via the 'C:\\Users\\taeeu\\anaconda3\\python.exe -m pip install --upgrade pip' command.\n"
     ]
    }
   ],
   "source": [
    "pip install matplotlib"
   ]
  },
  {
   "cell_type": "code",
   "execution_count": 11,
   "metadata": {},
   "outputs": [
    {
     "name": "stdout",
     "output_type": "stream",
     "text": [
      "Requirement already satisfied: patsy in c:\\users\\taeeu\\anaconda3\\lib\\site-packages (0.5.1)\n",
      "Requirement already satisfied: six in c:\\users\\taeeu\\anaconda3\\lib\\site-packages (from patsy) (1.15.0)\n",
      "Requirement already satisfied: numpy>=1.4 in c:\\users\\taeeu\\anaconda3\\lib\\site-packages (from patsy) (1.19.2)\n",
      "Note: you may need to restart the kernel to use updated packages.\n"
     ]
    },
    {
     "name": "stderr",
     "output_type": "stream",
     "text": [
      "WARNING: You are using pip version 21.0.1; however, version 21.1.3 is available.\n",
      "You should consider upgrading via the 'C:\\Users\\taeeu\\anaconda3\\python.exe -m pip install --upgrade pip' command.\n"
     ]
    }
   ],
   "source": [
    "pip install patsy"
   ]
  },
  {
   "cell_type": "code",
   "execution_count": 12,
   "metadata": {},
   "outputs": [
    {
     "name": "stdout",
     "output_type": "stream",
     "text": [
      "Requirement already satisfied: seaborn in c:\\users\\taeeu\\anaconda3\\lib\\site-packages (0.11.0)\n",
      "Requirement already satisfied: matplotlib>=2.2 in c:\\users\\taeeu\\anaconda3\\lib\\site-packages (from seaborn) (3.3.2)\n",
      "Requirement already satisfied: scipy>=1.0 in c:\\users\\taeeu\\anaconda3\\lib\\site-packages (from seaborn) (1.5.2)\n",
      "Requirement already satisfied: pandas>=0.23 in c:\\users\\taeeu\\anaconda3\\lib\\site-packages (from seaborn) (1.1.3)\n",
      "Requirement already satisfied: numpy>=1.15 in c:\\users\\taeeu\\anaconda3\\lib\\site-packages (from seaborn) (1.19.2)\n",
      "Requirement already satisfied: kiwisolver>=1.0.1 in c:\\users\\taeeu\\anaconda3\\lib\\site-packages (from matplotlib>=2.2->seaborn) (1.3.0)\n",
      "Requirement already satisfied: pyparsing!=2.0.4,!=2.1.2,!=2.1.6,>=2.0.3 in c:\\users\\taeeu\\anaconda3\\lib\\site-packages (from matplotlib>=2.2->seaborn) (2.4.7)\n",
      "Requirement already satisfied: cycler>=0.10 in c:\\users\\taeeu\\anaconda3\\lib\\site-packages (from matplotlib>=2.2->seaborn) (0.10.0)\n",
      "Requirement already satisfied: certifi>=2020.06.20 in c:\\users\\taeeu\\anaconda3\\lib\\site-packages (from matplotlib>=2.2->seaborn) (2020.6.20)\n",
      "Requirement already satisfied: pillow>=6.2.0 in c:\\users\\taeeu\\anaconda3\\lib\\site-packages (from matplotlib>=2.2->seaborn) (8.0.1)\n",
      "Requirement already satisfied: python-dateutil>=2.1 in c:\\users\\taeeu\\anaconda3\\lib\\site-packages (from matplotlib>=2.2->seaborn) (2.8.1)\n",
      "Requirement already satisfied: six in c:\\users\\taeeu\\anaconda3\\lib\\site-packages (from cycler>=0.10->matplotlib>=2.2->seaborn) (1.15.0)\n",
      "Requirement already satisfied: pytz>=2017.2 in c:\\users\\taeeu\\anaconda3\\lib\\site-packages (from pandas>=0.23->seaborn) (2020.1)\n",
      "Note: you may need to restart the kernel to use updated packages.\n"
     ]
    },
    {
     "name": "stderr",
     "output_type": "stream",
     "text": [
      "WARNING: You are using pip version 21.0.1; however, version 21.1.3 is available.\n",
      "You should consider upgrading via the 'C:\\Users\\taeeu\\anaconda3\\python.exe -m pip install --upgrade pip' command.\n"
     ]
    }
   ],
   "source": [
    "pip install seaborn"
   ]
  },
  {
   "cell_type": "code",
   "execution_count": 9,
   "metadata": {},
   "outputs": [
    {
     "name": "stdout",
     "output_type": "stream",
     "text": [
      "Requirement already satisfied: bs4 in c:\\users\\taeeu\\anaconda3\\lib\\site-packages (0.0.1)\n",
      "Requirement already satisfied: beautifulsoup4 in c:\\users\\taeeu\\anaconda3\\lib\\site-packages (from bs4) (4.6.0)\n",
      "Note: you may need to restart the kernel to use updated packages.\n"
     ]
    }
   ],
   "source": [
    "pip install bs4"
   ]
  },
  {
   "cell_type": "code",
   "execution_count": 3,
   "metadata": {},
   "outputs": [
    {
     "name": "stdout",
     "output_type": "stream",
     "text": [
      "Collecting plotly\n",
      "  Downloading plotly-5.1.0-py2.py3-none-any.whl (20.6 MB)\n",
      "Collecting tenacity>=6.2.0\n",
      "  Downloading tenacity-7.0.0-py2.py3-none-any.whl (23 kB)\n",
      "Requirement already satisfied: six in c:\\users\\taeeu\\anaconda3\\lib\\site-packages (from plotly) (1.15.0)\n",
      "Installing collected packages: tenacity, plotly\n",
      "Successfully installed plotly-5.1.0 tenacity-7.0.0\n",
      "Note: you may need to restart the kernel to use updated packages.\n"
     ]
    }
   ],
   "source": [
    "pip install plotly"
   ]
  },
  {
   "cell_type": "code",
   "execution_count": 4,
   "metadata": {},
   "outputs": [
    {
     "name": "stdout",
     "output_type": "stream",
     "text": [
      "Collecting newspaper3k\n",
      "  Downloading newspaper3k-0.2.8-py3-none-any.whl (211 kB)\n",
      "Collecting feedparser>=5.2.1\n",
      "  Downloading feedparser-6.0.8-py3-none-any.whl (81 kB)\n",
      "Collecting feedfinder2>=0.0.4\n",
      "  Downloading feedfinder2-0.0.4.tar.gz (3.3 kB)\n",
      "Collecting jieba3k>=0.35.1\n",
      "  Downloading jieba3k-0.35.1.zip (7.4 MB)\n",
      "Requirement already satisfied: python-dateutil>=2.5.3 in c:\\users\\taeeu\\anaconda3\\lib\\site-packages (from newspaper3k) (2.8.1)\n",
      "Collecting tldextract>=2.0.1\n",
      "  Downloading tldextract-3.1.0-py2.py3-none-any.whl (87 kB)\n",
      "Collecting cssselect>=0.9.2\n",
      "  Downloading cssselect-1.1.0-py2.py3-none-any.whl (16 kB)\n",
      "Requirement already satisfied: PyYAML>=3.11 in c:\\users\\taeeu\\anaconda3\\lib\\site-packages (from newspaper3k) (5.3.1)\n",
      "Requirement already satisfied: beautifulsoup4>=4.4.1 in c:\\users\\taeeu\\anaconda3\\lib\\site-packages (from newspaper3k) (4.6.0)\n",
      "Requirement already satisfied: requests>=2.10.0 in c:\\users\\taeeu\\anaconda3\\lib\\site-packages (from newspaper3k) (2.24.0)\n",
      "Requirement already satisfied: nltk>=3.2.1 in c:\\users\\taeeu\\anaconda3\\lib\\site-packages (from newspaper3k) (3.5)\n",
      "Collecting tinysegmenter==0.3\n",
      "  Downloading tinysegmenter-0.3.tar.gz (16 kB)\n",
      "Requirement already satisfied: Pillow>=3.3.0 in c:\\users\\taeeu\\anaconda3\\lib\\site-packages (from newspaper3k) (8.0.1)\n",
      "Requirement already satisfied: lxml>=3.6.0 in c:\\users\\taeeu\\anaconda3\\lib\\site-packages (from newspaper3k) (4.6.1)\n",
      "Requirement already satisfied: six in c:\\users\\taeeu\\anaconda3\\lib\\site-packages (from feedfinder2>=0.0.4->newspaper3k) (1.15.0)\n",
      "Collecting sgmllib3k\n",
      "  Downloading sgmllib3k-1.0.0.tar.gz (5.8 kB)\n",
      "Requirement already satisfied: regex in c:\\users\\taeeu\\anaconda3\\lib\\site-packages (from nltk>=3.2.1->newspaper3k) (2020.10.15)\n",
      "Requirement already satisfied: tqdm in c:\\users\\taeeu\\anaconda3\\lib\\site-packages (from nltk>=3.2.1->newspaper3k) (4.50.2)\n",
      "Requirement already satisfied: joblib in c:\\users\\taeeu\\anaconda3\\lib\\site-packages (from nltk>=3.2.1->newspaper3k) (0.17.0)\n",
      "Requirement already satisfied: click in c:\\users\\taeeu\\anaconda3\\lib\\site-packages (from nltk>=3.2.1->newspaper3k) (7.1.2)\n",
      "Requirement already satisfied: idna<3,>=2.5 in c:\\users\\taeeu\\anaconda3\\lib\\site-packages (from requests>=2.10.0->newspaper3k) (2.10)\n",
      "Requirement already satisfied: urllib3!=1.25.0,!=1.25.1,<1.26,>=1.21.1 in c:\\users\\taeeu\\anaconda3\\lib\\site-packages (from requests>=2.10.0->newspaper3k) (1.25.11)\n",
      "Requirement already satisfied: chardet<4,>=3.0.2 in c:\\users\\taeeu\\anaconda3\\lib\\site-packages (from requests>=2.10.0->newspaper3k) (3.0.4)\n",
      "Requirement already satisfied: certifi>=2017.4.17 in c:\\users\\taeeu\\anaconda3\\lib\\site-packages (from requests>=2.10.0->newspaper3k) (2020.6.20)\n",
      "Requirement already satisfied: filelock>=3.0.8 in c:\\users\\taeeu\\anaconda3\\lib\\site-packages (from tldextract>=2.0.1->newspaper3k) (3.0.12)\n",
      "Collecting requests-file>=1.4\n",
      "  Downloading requests_file-1.5.1-py2.py3-none-any.whl (3.7 kB)\n",
      "Building wheels for collected packages: tinysegmenter, feedfinder2, jieba3k, sgmllib3k\n",
      "  Building wheel for tinysegmenter (setup.py): started\n",
      "  Building wheel for tinysegmenter (setup.py): finished with status 'done'\n",
      "  Created wheel for tinysegmenter: filename=tinysegmenter-0.3-py3-none-any.whl size=13543 sha256=14f758b022c37aae0cb39dbcf90552e82bd38356fbc4e03712f879bdb4b09a60\n",
      "  Stored in directory: c:\\users\\taeeu\\appdata\\local\\pip\\cache\\wheels\\99\\74\\83\\8fac1c8d9c648cfabebbbffe97a889f6624817f3aa0bbe6c09\n",
      "  Building wheel for feedfinder2 (setup.py): started\n",
      "  Building wheel for feedfinder2 (setup.py): finished with status 'done'\n",
      "  Created wheel for feedfinder2: filename=feedfinder2-0.0.4-py3-none-any.whl size=3362 sha256=fa92ca9bee54c81e125879102fa23277b5f173678071d88af8826223cf0852e2\n",
      "  Stored in directory: c:\\users\\taeeu\\appdata\\local\\pip\\cache\\wheels\\b6\\09\\68\\a9f15498ac02c23dde29f18745bc6a6f574ba4ab41861a3575\n",
      "  Building wheel for jieba3k (setup.py): started\n",
      "  Building wheel for jieba3k (setup.py): finished with status 'done'\n",
      "  Created wheel for jieba3k: filename=jieba3k-0.35.1-py3-none-any.whl size=7398411 sha256=5ddb966c5da88f964faa5ce103703d072d284fb71d9ed801e9f9a6f236ef415e\n",
      "  Stored in directory: c:\\users\\taeeu\\appdata\\local\\pip\\cache\\wheels\\1f\\7e\\0c\\54f3b0f5164278677899f2db08f2b07943ce2d024a3c862afb\n",
      "  Building wheel for sgmllib3k (setup.py): started\n",
      "  Building wheel for sgmllib3k (setup.py): finished with status 'done'\n",
      "  Created wheel for sgmllib3k: filename=sgmllib3k-1.0.0-py3-none-any.whl size=6070 sha256=4f08d7b85a7719a1b82c4c39e43b04e57b6a29f1f0deec789de658474a2966e1\n",
      "  Stored in directory: c:\\users\\taeeu\\appdata\\local\\pip\\cache\\wheels\\83\\63\\2f\\117884c3b19d46b64d3d61690333aa80c88dc14050e269c546\n",
      "Successfully built tinysegmenter feedfinder2 jieba3k sgmllib3k\n",
      "Installing collected packages: sgmllib3k, requests-file, tldextract, tinysegmenter, jieba3k, feedparser, feedfinder2, cssselect, newspaper3k\n",
      "Successfully installed cssselect-1.1.0 feedfinder2-0.0.4 feedparser-6.0.8 jieba3k-0.35.1 newspaper3k-0.2.8 requests-file-1.5.1 sgmllib3k-1.0.0 tinysegmenter-0.3 tldextract-3.1.0\n",
      "Note: you may need to restart the kernel to use updated packages.\n"
     ]
    }
   ],
   "source": [
    "pip install newspaper3k"
   ]
  },
  {
   "cell_type": "code",
   "execution_count": 5,
   "metadata": {},
   "outputs": [
    {
     "name": "stdout",
     "output_type": "stream",
     "text": [
      "Requirement already satisfied: scikit-image in c:\\users\\taeeu\\anaconda3\\lib\\site-packages (0.17.2)\n",
      "Requirement already satisfied: numpy>=1.15.1 in c:\\users\\taeeu\\anaconda3\\lib\\site-packages (from scikit-image) (1.19.2)\n",
      "Requirement already satisfied: scipy>=1.0.1 in c:\\users\\taeeu\\anaconda3\\lib\\site-packages (from scikit-image) (1.5.2)\n",
      "Requirement already satisfied: matplotlib!=3.0.0,>=2.0.0 in c:\\users\\taeeu\\anaconda3\\lib\\site-packages (from scikit-image) (3.3.2)\n",
      "Requirement already satisfied: networkx>=2.0 in c:\\users\\taeeu\\anaconda3\\lib\\site-packages (from scikit-image) (2.5)\n",
      "Requirement already satisfied: pillow!=7.1.0,!=7.1.1,>=4.3.0 in c:\\users\\taeeu\\anaconda3\\lib\\site-packages (from scikit-image) (8.0.1)\n",
      "Requirement already satisfied: imageio>=2.3.0 in c:\\users\\taeeu\\anaconda3\\lib\\site-packages (from scikit-image) (2.9.0)\n",
      "Requirement already satisfied: tifffile>=2019.7.26 in c:\\users\\taeeu\\anaconda3\\lib\\site-packages (from scikit-image) (2020.10.1)\n",
      "Requirement already satisfied: PyWavelets>=1.1.1 in c:\\users\\taeeu\\anaconda3\\lib\\site-packages (from scikit-image) (1.1.1)\n",
      "Requirement already satisfied: certifi>=2020.06.20 in c:\\users\\taeeu\\anaconda3\\lib\\site-packages (from matplotlib!=3.0.0,>=2.0.0->scikit-image) (2020.6.20)\n",
      "Requirement already satisfied: python-dateutil>=2.1 in c:\\users\\taeeu\\anaconda3\\lib\\site-packages (from matplotlib!=3.0.0,>=2.0.0->scikit-image) (2.8.1)\n",
      "Requirement already satisfied: cycler>=0.10 in c:\\users\\taeeu\\anaconda3\\lib\\site-packages (from matplotlib!=3.0.0,>=2.0.0->scikit-image) (0.10.0)\n",
      "Requirement already satisfied: kiwisolver>=1.0.1 in c:\\users\\taeeu\\anaconda3\\lib\\site-packages (from matplotlib!=3.0.0,>=2.0.0->scikit-image) (1.3.0)\n",
      "Requirement already satisfied: pyparsing!=2.0.4,!=2.1.2,!=2.1.6,>=2.0.3 in c:\\users\\taeeu\\anaconda3\\lib\\site-packages (from matplotlib!=3.0.0,>=2.0.0->scikit-image) (2.4.7)\n",
      "Requirement already satisfied: six in c:\\users\\taeeu\\anaconda3\\lib\\site-packages (from cycler>=0.10->matplotlib!=3.0.0,>=2.0.0->scikit-image) (1.15.0)\n",
      "Requirement already satisfied: decorator>=4.3.0 in c:\\users\\taeeu\\anaconda3\\lib\\site-packages (from networkx>=2.0->scikit-image) (4.4.2)\n",
      "Note: you may need to restart the kernel to use updated packages.\n"
     ]
    }
   ],
   "source": [
    "pip install scikit-image"
   ]
  },
  {
   "cell_type": "code",
   "execution_count": 12,
   "metadata": {},
   "outputs": [
    {
     "name": "stdout",
     "output_type": "stream",
     "text": [
      "(3, 2)\n",
      "6\n",
      "2\n",
      "int32\n"
     ]
    }
   ],
   "source": [
    "import numpy as np\n",
    "data=np.array([[1,2], [3,4], [5,6]])\n",
    "print(data.shape)\n",
    "print(data.size)\n",
    "print(data.ndim)\n",
    "print(data.dtype)"
   ]
  },
  {
   "cell_type": "code",
   "execution_count": 16,
   "metadata": {},
   "outputs": [
    {
     "name": "stdout",
     "output_type": "stream",
     "text": [
      "[1 2 3]\n",
      "[1. 2. 3.]\n",
      "[1.+0.j 2.+0.j 3.+0.j]\n"
     ]
    }
   ],
   "source": [
    "#데이터 타입 바꾸기\n",
    "print(np.array([1,2,3], dtype=np.int))\n",
    "print(np.array([1,2,3], dtype=np.float))\n",
    "print(np.array([1,2,3], dtype=np.complex))"
   ]
  },
  {
   "cell_type": "code",
   "execution_count": 17,
   "metadata": {},
   "outputs": [
    {
     "data": {
      "text/plain": [
       "array([[0., 0., 0.],\n",
       "       [0., 0., 0.]])"
      ]
     },
     "execution_count": 17,
     "metadata": {},
     "output_type": "execute_result"
    }
   ],
   "source": [
    "np.zeros((2,3))"
   ]
  },
  {
   "cell_type": "code",
   "execution_count": 18,
   "metadata": {},
   "outputs": [
    {
     "data": {
      "text/plain": [
       "array([1., 1., 1., 1.])"
      ]
     },
     "execution_count": 18,
     "metadata": {},
     "output_type": "execute_result"
    }
   ],
   "source": [
    "np.ones(4)"
   ]
  },
  {
   "cell_type": "code",
   "execution_count": 21,
   "metadata": {},
   "outputs": [
    {
     "data": {
      "text/plain": [
       "array([3.2, 3.2, 3.2])"
      ]
     },
     "execution_count": 21,
     "metadata": {},
     "output_type": "execute_result"
    }
   ],
   "source": [
    "np.full(3,3.2)"
   ]
  },
  {
   "cell_type": "code",
   "execution_count": 24,
   "metadata": {},
   "outputs": [],
   "source": [
    "data=np.ones(4)\n",
    "data.fill(3)"
   ]
  },
  {
   "cell_type": "code",
   "execution_count": 26,
   "metadata": {},
   "outputs": [
    {
     "data": {
      "text/plain": [
       "array([0, 4, 8])"
      ]
     },
     "execution_count": 26,
     "metadata": {},
     "output_type": "execute_result"
    }
   ],
   "source": [
    "np.arange(0,12,4)"
   ]
  },
  {
   "cell_type": "code",
   "execution_count": 27,
   "metadata": {},
   "outputs": [
    {
     "data": {
      "text/plain": [
       "array([0.5951251 , 0.65517401])"
      ]
     },
     "execution_count": 27,
     "metadata": {},
     "output_type": "execute_result"
    }
   ],
   "source": [
    "np.random.rand(2)"
   ]
  },
  {
   "cell_type": "code",
   "execution_count": 28,
   "metadata": {},
   "outputs": [
    {
     "data": {
      "text/plain": [
       "array([[ 0,  0,  0],\n",
       "       [ 0, 10,  0],\n",
       "       [ 0,  0, 20]])"
      ]
     },
     "execution_count": 28,
     "metadata": {},
     "output_type": "execute_result"
    }
   ],
   "source": [
    "np.diag(np.arange(0,30,10))"
   ]
  },
  {
   "cell_type": "code",
   "execution_count": 38,
   "metadata": {},
   "outputs": [
    {
     "name": "stdout",
     "output_type": "stream",
     "text": [
      "0\n",
      "10\n",
      "4\n",
      "[0 1 2 3 4]\n",
      "[0 2 4]\n",
      "[0 1 2 3 4]\n",
      "[ 6  7  8  9 10]\n",
      "[]\n"
     ]
    }
   ],
   "source": [
    "a=np.arange(0,11)\n",
    "print(a[0])\n",
    "print(a[-1])\n",
    "print(a[4])\n",
    "print(a[0:5])\n",
    "print(a[0:5:2])\n",
    "print(a[:5])\n",
    "print(a[-5:])\n",
    "print(a[0:0:-2])"
   ]
  },
  {
   "cell_type": "code",
   "execution_count": 40,
   "metadata": {},
   "outputs": [
    {
     "name": "stdout",
     "output_type": "stream",
     "text": [
      "[ 2 12 22 32]\n",
      "[11 12 13 14]\n",
      "[[ 1  2]\n",
      " [11 12]]\n",
      "[[21 22]\n",
      " [31 32]]\n",
      "[[ 1  3]\n",
      " [21 23]]\n",
      "[[12 14]\n",
      " [32 34]]\n"
     ]
    }
   ],
   "source": [
    "a=np.array([[1,2,3,4],[11,12,13,14],[21,22,23,24],[31,32,33,34]])\n",
    "print(a[:,1]) #2번째 열의 모든 수를 뽑아라\n",
    "print(a[1,:]) #2번째 행의 모든 수를 뽑아라\n",
    "print(a[:2,:2]) #처음 두개행, 처음 두개열에 해당하는 수\n",
    "print(a[2:,:2]) #두번째 열부터 끝까지, 1,3,21,23\n",
    "print(a[::2,::2]) #2개마다 건너뜀 \n",
    "print(a[1::2,1::2]) # 2개마다 건너뜀 12,14,32,34"
   ]
  },
  {
   "cell_type": "code",
   "execution_count": 44,
   "metadata": {},
   "outputs": [
    {
     "name": "stdout",
     "output_type": "stream",
     "text": [
      "[0.  0.2 0.4]\n",
      "[0.6 0.7 0.8 0.9 1. ]\n",
      "[0.2 0.3 0.4]\n"
     ]
    }
   ],
   "source": [
    "A=np.linspace(0,1,11)\n",
    "A\n",
    "print(A[np.array([0,2,4])])\n",
    "print(A[A>0.5])\n",
    "print(A[np.arange(2,5)])"
   ]
  },
  {
   "cell_type": "code",
   "execution_count": 55,
   "metadata": {},
   "outputs": [
    {
     "name": "stdout",
     "output_type": "stream",
     "text": [
      "[[0 1 2 3 4]\n",
      " [0 1 2 3 4]\n",
      " [0 1 2 3 4]]\n",
      "[0 1 2 3 4 0 1 2 3 4]\n"
     ]
    }
   ],
   "source": [
    "#1\n",
    "data=np.array([[1,2], [3,4]])\n",
    "data\n",
    "np.reshape(data, (1,4))\n",
    "data.flatten() #1차원으로 바꿔줌\n",
    "#2\n",
    "data=np.arange(5)\n",
    "print(np.vstack((data,data,data))) #세로로 쌓음\n",
    "print(np.hstack((data,data))) #가로로 쌓음"
   ]
  },
  {
   "cell_type": "code",
   "execution_count": 60,
   "metadata": {},
   "outputs": [
    {
     "data": {
      "text/plain": [
       "array([[0, 1, 2],\n",
       "       [3, 0, 1]])"
      ]
     },
     "execution_count": 60,
     "metadata": {},
     "output_type": "execute_result"
    }
   ],
   "source": [
    "a=np.arange(3)\n",
    "b=np.arange(4)\n",
    "a\n",
    "b\n",
    "np.concatenate((a,b))\n",
    "np.append(a,[3,4,5])\n",
    "np.resize(b, (2,3)) #b의 4개를 2*3으로 바꿈, 모자란 만큼 b로 채움"
   ]
  },
  {
   "cell_type": "code",
   "execution_count": 69,
   "metadata": {},
   "outputs": [
    {
     "name": "stdout",
     "output_type": "stream",
     "text": [
      "2.0\n",
      "3.0\n",
      "2.0\n"
     ]
    },
    {
     "data": {
      "text/plain": [
       "2.0"
      ]
     },
     "execution_count": 69,
     "metadata": {},
     "output_type": "execute_result"
    }
   ],
   "source": [
    "np.cos(np.pi) #180도 기준 cos1에서 시작\n",
    "np.sin(np.pi)\n",
    "np.tan(np.pi)\n",
    "print(np.sqrt(4))\n",
    "print(np.log2(8))\n",
    "print(np.log10(100))"
   ]
  },
  {
   "cell_type": "code",
   "execution_count": 77,
   "metadata": {},
   "outputs": [
    {
     "name": "stdout",
     "output_type": "stream",
     "text": [
      "[3 6 9]\n",
      "[1 2 3]\n",
      "[ 2  8 18]\n",
      "[2. 2. 2.]\n",
      "------\n",
      "8\n",
      "2\n",
      "2.0\n",
      "5.0\n",
      "-1.0\n",
      "3.41\n"
     ]
    }
   ],
   "source": [
    "a=[1,2,3]\n",
    "b=[2,4,6]\n",
    "print(np.add(a,b))\n",
    "print(np.subtract(b,a))\n",
    "print(np.multiply(a,b))\n",
    "print(np.divide(b,a))\n",
    "print(\"------\")\n",
    "print(np.power(2,3)) #2의 3승\n",
    "print(np.remainder(8,3)) #나눈 나머지\n",
    "print(np.reciprocal(0.5))\n",
    "print(np.abs(-5.0))\n",
    "print(np.sign(-5.0))\n",
    "print(np.round(3.4124,2))"
   ]
  },
  {
   "cell_type": "code",
   "execution_count": 80,
   "metadata": {},
   "outputs": [
    {
     "name": "stdout",
     "output_type": "stream",
     "text": [
      "[0 1 2 3 4 5 6 7 8 9]\n",
      "4.5\n",
      "2.8722813232690143\n",
      "8.25\n",
      "45\n",
      "0\n",
      "0 9\n",
      "0 9\n",
      "False\n",
      "True\n"
     ]
    }
   ],
   "source": [
    "a=np.arange(0,10)\n",
    "print(a)\n",
    "print(np.mean(a))\n",
    "print(np.std(a))\n",
    "print(np.var(a))\n",
    "print(np.sum(a))\n",
    "print(np.prod(a))\n",
    "print(np.min(a), np.max(a))\n",
    "print(np.argmin(a), np.argmax(a))\n",
    "print(np.all(a))\n",
    "print(np.any(a))"
   ]
  },
  {
   "cell_type": "code",
   "execution_count": 82,
   "metadata": {},
   "outputs": [
    {
     "name": "stdout",
     "output_type": "stream",
     "text": [
      "[ 0.  4.  8. 12. 16.]\n",
      "[  0.   4.  80. 120. 160.]\n",
      "8.0\n",
      "(array([1, 2, 3, 4], dtype=int64),)\n",
      "[ -1.  16.  64. 144. 256.]\n",
      "[False  True  True False False]\n",
      "[ True False False False  True]\n",
      "[ True  True False False False]\n"
     ]
    }
   ],
   "source": [
    "a=np.linspace(0,16,5)\n",
    "print(a)\n",
    "print(np.where(a<5, a, 10*a)) #a보다 작으면 그대로 두고 아니면 10을 곱해라\n",
    "print(np.choose(2,a)) #a의 세번째를 골라라\n",
    "print(np.nonzero(a)) #a중 0이 아닌 숫자들의 위치를 구하라\n",
    "print(np.select([a<2,a>=2],[a-1, a**2])) #a가 2보다 작을때는 a에서 1을 빼고 a가 2보다 크면 2배를 해죠라\n",
    "print(np.logical_and(a>1, a<10)) #and=>1보다 크고 10보다 작으면 true\n",
    "print(np.logical_or(a<1, a>15)) \n",
    "print(np.logical_not(a>5)) #5보다 크면 false"
   ]
  },
  {
   "cell_type": "code",
   "execution_count": 84,
   "metadata": {},
   "outputs": [
    {
     "name": "stdout",
     "output_type": "stream",
     "text": [
      "[[0 1 2]\n",
      " [3 4 5]\n",
      " [6 7 8]]\n",
      "[[0 3 6]\n",
      " [1 4 7]\n",
      " [2 5 8]]\n",
      "[[2 1 0]\n",
      " [5 4 3]\n",
      " [8 7 6]]\n",
      "[[6 7 8]\n",
      " [3 4 5]\n",
      " [0 1 2]]\n",
      "[[2 5 8]\n",
      " [1 4 7]\n",
      " [0 3 6]]\n",
      "[[2, 3, 1], [9, 8, 7]]\n",
      "[[1 2 3]\n",
      " [7 8 9]]\n"
     ]
    }
   ],
   "source": [
    "mat=np.arange(9).reshape(3,3)\n",
    "print(mat)\n",
    "print(np.transpose(mat))\n",
    "print(np.fliplr(mat))\n",
    "print(np.flipud(mat))\n",
    "print(np.rot90(mat))\n",
    "\n",
    "c=[[2,3,1], [9,8,7]]\n",
    "print(c)\n",
    "print(np.sort(c))"
   ]
  },
  {
   "cell_type": "code",
   "execution_count": 87,
   "metadata": {},
   "outputs": [
    {
     "name": "stdout",
     "output_type": "stream",
     "text": [
      "[[22 28]\n",
      " [49 64]]\n",
      "[[ 1  2  3  4  5  6]\n",
      " [ 2  4  6  8 10 12]\n",
      " [ 3  6  9 12 15 18]\n",
      " [ 4  8 12 16 20 24]\n",
      " [ 5 10 15 20 25 30]\n",
      " [ 6 12 18 24 30 36]]\n",
      "[2, 3, 4]\n",
      "[4, 5, 6]\n",
      "47\n",
      "[-2  4 -2]\n"
     ]
    }
   ],
   "source": [
    "A=np.arange(1,7).reshape(2,3)\n",
    "B=np.arange(1,7).reshape(3,2)\n",
    "\n",
    "print(np.dot(A,B)) #매트릭스 곱 2*2\n",
    "print(np.outer(B,A)) #가장 큰 차원의 매트릭스를 만들음\n",
    "\n",
    "c=[2,3,4]\n",
    "d=[4,5,6]\n",
    "print(c)\n",
    "print(d)\n",
    "print(np.inner(c,d))\n",
    "print(np.cross(c,d))\n"
   ]
  },
  {
   "cell_type": "code",
   "execution_count": 7,
   "metadata": {},
   "outputs": [],
   "source": [
    "#SYMPY BASICS(46p)\n",
    "import sympy\n",
    "x=sympy.Symbol(\"x\")\n",
    "y=sympy.Symbol(\"y\")\n",
    "\n",
    "expr = 2*(x**2 - x) - x*(x+1)\n",
    "expr = 2*sympy.cos(x) * sympy.sin(x)\n",
    "expr = sympy.exp(x)*sympy.exp(y)\n",
    "expr = 1/(x**2 - 1) + 1 / (x+1)"
   ]
  },
  {
   "cell_type": "code",
   "execution_count": 21,
   "metadata": {},
   "outputs": [
    {
     "name": "stdout",
     "output_type": "stream",
     "text": [
      "-------\n",
      "Matrix([[a, c], [b, d]])\n",
      "Matrix([[conjugate(a), conjugate(c)], [conjugate(b), conjugate(d)]])\n",
      "a + d\n",
      "a*d - b*c\n",
      "Matrix([[d/(a*d - b*c), -b/(a*d - b*c)], [-c/(a*d - b*c), a/(a*d - b*c)]])\n"
     ]
    }
   ],
   "source": [
    "a,b,c,d=sympy.symbols(\"a,b,c,d\")\n",
    "M=sympy.Matrix([[a,b], [c,d]])\n",
    "M*M\n",
    "x=sympy.Matrix(sympy.symbols(\"x_1, x_2\"))\n",
    "q=sympy.Matrix(sympy.symbols(\"q_1, q_2\"))\n",
    "x=M.inv()*q\n",
    "sympy.solve(M*x - q,x)\n",
    "print(\"-------\")\n",
    "print(sympy.transpose(M))\n",
    "print(sympy.adjoint(M))\n",
    "print(sympy.trace(M))\n",
    "print(sympy.det(M))\n",
    "print(M.inv())"
   ]
  },
  {
   "cell_type": "code",
   "execution_count": 32,
   "metadata": {
    "scrolled": true
   },
   "outputs": [
    {
     "name": "stdout",
     "output_type": "stream",
     "text": [
      "Matrix([[-4, 2], [6, 7]])\n",
      "Matrix([[3, 2], [3, 2]])\n",
      "1. (Matrix([\n",
      "[   1, 0],\n",
      "[-3/2, 1]]), Matrix([\n",
      "[-4,  2],\n",
      "[ 0, 10]]), [])\n",
      "2. (Matrix([\n",
      "[-2*sqrt(13)/13, 3*sqrt(13)/13],\n",
      "[ 3*sqrt(13)/13, 2*sqrt(13)/13]]), Matrix([\n",
      "[2*sqrt(13), 17*sqrt(13)/13],\n",
      "[         0, 20*sqrt(13)/13]]))\n",
      "3. (Matrix([\n",
      "[-2, 1],\n",
      "[ 1, 6]]), Matrix([\n",
      "[-5, 0],\n",
      "[ 0, 8]]))\n",
      "4. 2\n"
     ]
    },
    {
     "data": {
      "text/plain": [
       "[sqrt(26), 0]"
      ]
     },
     "execution_count": 32,
     "metadata": {},
     "output_type": "execute_result"
    }
   ],
   "source": [
    "N=sympy.Matrix([[-4,2], [6,7]])\n",
    "print(N)\n",
    "P=sympy.Matrix([[3,2], [3,2]])\n",
    "print(P)\n",
    "print(\"1.\", N.LUdecomposition())\n",
    "print(\"2.\", N.QRdecomposition())\n",
    "print(\"3.\", N.diagonalize())\n",
    "print(\"4.\", N.rank())\n",
    "\n",
    "sympy.Matrix(P.nullspace())\n",
    "P.singular_values()"
   ]
  },
  {
   "cell_type": "code",
   "execution_count": 7,
   "metadata": {},
   "outputs": [
    {
     "name": "stdout",
     "output_type": "stream",
     "text": [
      "<class 'pandas.core.frame.DataFrame'>\n",
      "RangeIndex: 18 entries, 0 to 17\n",
      "Data columns (total 3 columns):\n",
      " #   Column      Non-Null Count  Dtype \n",
      "---  ------      --------------  ----- \n",
      " 0   Year        18 non-null     int64 \n",
      " 1   Democratic  18 non-null     object\n",
      " 2   Republican  18 non-null     object\n",
      "dtypes: int64(1), object(2)\n",
      "memory usage: 560.0+ bytes\n",
      "<class 'pandas.core.frame.DataFrame'>\n",
      "RangeIndex: 18 entries, 0 to 17\n",
      "Data columns (total 3 columns):\n",
      " #   Column      Non-Null Count  Dtype  \n",
      "---  ------      --------------  -----  \n",
      " 0   Year        18 non-null     int64  \n",
      " 1   Democratic  18 non-null     float64\n",
      " 2   Republican  18 non-null     float64\n",
      "dtypes: float64(2), int64(1)\n",
      "memory usage: 560.0 bytes\n"
     ]
    }
   ],
   "source": [
    "#웹데이터 가져오기\n",
    "import pandas as pd\n",
    "import numpy as np\n",
    "table_PA = pd.read_html('http://en.wikipedia.org/wiki/Politics_of_Pennsylvania')\n",
    "len(table_PA) #페이지에 5개의 테이블이 있음(table_PA)->우리는 이 중에 대선결과를 가져오고 싶음\n",
    "table_PA = pd.read_html('http://en.wikipedia.org/wiki/Politics_of_Pennsylvania', match='Presidential election results') #대선결과와 일치하는 테이블만 긁어옴\n",
    "len(table_PA)\n",
    "df=table_PA[0]\n",
    "df.head()\n",
    "\n",
    "df['Democratic']=df['Democratic'].str[:4] #Democratic의 앞에 4글자만 추출해라, %길이가 다 똑같기 때문에 가능한일임\n",
    "df['Republican']=df['Republican'].str[:4]\n",
    "df.head()\n",
    "df.info() #확인해보면 숫자가 아니라 문자로 되어있기 때문에 바꿔줌\n",
    "\n",
    "df[['Democratic', 'Republican']]=df[['Democratic','Republican']].apply(pd.to_numeric) \n",
    "df.info()\n"
   ]
  },
  {
   "cell_type": "code",
   "execution_count": 49,
   "metadata": {},
   "outputs": [
    {
     "name": "stdout",
     "output_type": "stream",
     "text": [
      "November 28, 2020\n",
      "\n",
      "Earlier this week the ITU issued a press release to publicise the move to the approval process - by the 193 member states of the Union - of their ITU-R Recommendation: 'Detailed specifications of the radio interfaces of IMT-2020.' (ITU-R M.[IMT-2020.SPECS]).\n",
      "\n",
      "The document - due for publication in February 2021 - will be the end product of a long process, initiated in 2012, under the banner 'IMT for 2020 and beyond' where the ITU set out its agenda for a steady progression of 5G research activities that would nourish the 3GPP efforts on the new radio and 5G core specification work.\n",
      "\n",
      "The ITU press release formally announces the radio interfaces that conform with the International Mobile Telecommunications 2020 (IMT-2020) performance requirements:\n",
      "\n",
      "\"The technologies are: 3GPP 5G-SRIT and 3GPP 5G-RIT submitted by the Third Generation Partnership Project (3GPP), and 5Gi submitted by Telecommunications Standards Development Society India (TSDSI). During the multi-year development and evaluation process by the ITU Radiocommunication Sector (ITU-R), these technologies were deemed to be sufficiently detailed to enable worldwide compatibility of operation and equipment, including roaming.\"\n",
      "\n",
      "\n",
      "\n",
      "\n",
      "\n",
      "The following material is reproduced for your information, from our September 2020 Highlights (Issue 1) newsletter article, penned by our TSG RAN Chair and the group's convenor for the ITU-R processes:\n",
      "\n",
      "3GPP finalizes contribution for IMT-2020\n",
      "\n",
      "September 1, 2020\n",
      "\n",
      "By Giovanni Romano, TSG RAN ITU Ad-hoc group Convenor and Balazs Bertenyi, TSG RAN Chair.\n",
      "\n",
      "IMT stands for International Mobile Telecommunications, the term used by the ITU to describe families of radio interface standards for mobile systems, starting from IMT-2000 (3G). The latest member of the IMT family is IMT-2020 which calls for support for enhanced mobile broadband (eMBB) and for new ‘use cases’ that require massive machine-type communications (mMTC) and ultra-reliable and low latency communications (URLLC).\n",
      "\n",
      "The alignment between the standards for 5G and the geo-political commitment to IMT-2020 is set to allow for a coordinated timeline for technology evolution in all markets and the possibility of a global approach to spectrum planning as well as equipment production.\n",
      "\n",
      "Since October 2014, 3GPP has been a leading participant in the ITU-R process to prepare the way for terrestrial radio interface specifications for IMT-2020. In June 2019, TSG RAN delivered a complete proposal including detailed self-evaluation documentation and a ‘Statement of compliance’ to the IMT-2020 requirements. A period of assessment then followed – by the fifteen ITU-R appointed Independent Evaluation Groups (IEGs) – up to February 2020, with no concerns being raised on the 3GPP submissions.\n",
      "\n",
      "The latest stage of the process – completed by June 2020 – has seen the final submission of the 3GPP set of specification material and the technology overview, to be included in the ITU-R M.[IMT-2020.SPECS] Recommendation entitled “Detailed specifications of the terrestrial radio interfaces of International Mobile Telecommunications-2020 (IMT-2020)”.\n",
      "\n",
      "3GPPs IMT-2020 proposal\n",
      "\n",
      "The 3GPP “5G” final proposal includes two separate and independent submissions, defined as the single Radio Interface Technology (RIT) and the combined Sets of Radio Interface Technologies (SRIT):\n",
      "\n",
      "Submission 1: SRIT (RP-191524)\n",
      "\n",
      "Component RIT: NR\n",
      "\n",
      "Component RIT: E-UTRA/LTE (incl. standalone LTE, NB-IoT, eMTC, and LTE-NR DC)\n",
      "\n",
      "Submission 2: RIT (RP-191528)\n",
      "\n",
      "NR\n",
      "\n",
      "Each submission is self-contained and complete unto itself, consisting of Releases 15 & 16.\n",
      "\n",
      "The 3GPP submissions are each collectively supported by the seven 3GPP Organizational Partners (Standards bodies; ARIB, ATIS, CCSA, ETSI, TSDSI, TTA and TTC) following their approval of the following:\n",
      "\n",
      "An overview of the main radio characteristics (RP-191523).\n",
      "\n",
      "The Compliance Template, a self-assessment on the fulfilment of the IMT-2020 requirements.\n",
      "\n",
      "The Link Budget Template, providing useful information on cell radius and network planning.\n",
      "\n",
      "TR 37.910, providing an exhaustive analysis of 3GPP “5G”, including simulation assumptions and results performed in the self-assessment.\n",
      "\n",
      "3GPP aspects included in IMT-2020\n",
      "\n",
      "Based on both 3GPP Submissions, the 3GPP aspects to be included in IMT-2020, spanning Release 15 & 16, are organised as follows:\n",
      "\n",
      "- Overview of the radio interface technology – This Section describes the main radio characteristics. For the SRIT it describes both NR and LTE, including NB-IoT, eMTC and LTE-NR DC, while for the NR RIT focuses on the NR radio aspects.\n",
      "\n",
      "- Detailed specifications of the radio interface technology – This Section provides the list of the 3GPP specifications to be included as ‘Global Core Specifications’ and to be transposed by the 3GPP OPs as authorised Transposing Organizations. Per each specification, the title and a short synopsis is provided. The specifications are taken from:\n",
      "\n",
      "SRIT: series 36 (“LTE (Evolved UTRA), LTE-Advanced, LTE-Advanced Pro radio technology”), 37 (“Multiple radio access technology aspects”) and 38 (“Radio technology beyond LTE”)\n",
      "\n",
      "RIT: series 37 (“Multiple radio access technology aspects”) and 38 (“Radio technology beyond LTE”)\n",
      "\n",
      "Taking 5G to the core\n",
      "\n",
      "Although the focus of Recommendation ITU-R M.[IMT-2020.SPECS] is only on radio interfaces fulfilling IMT-2020 radio requirements - Information on backhauling, core network and service aspects is referenced in the 3GPP submissions, with a link to the 3GPP specifications web page provided, to give a complete system perspective.\n",
      "\n",
      "The importance of system and core network specifications cannot be overstressed, as they address the network, terminal, and service aspects required to provide an integrated mobility solution. In addition to the radio work submitted for IMT-2020, the broader 3GPP system includes aspects such as user services, connectivity, interoperability, mobility and roaming, security, codecs and media, operations and maintenance, charging.\n",
      "\n",
      "More to do\n",
      "\n",
      "The process for the finalization of Recommendation ITU-R M.[IMT-2020.SPECS] is now approaching its conclusion (Nov. 28: See story above). The 3GPP contribution to the document is paramount to its success and is a monument to the good co-operation between the ITU-R and 3GPP for more than two decades.\n",
      "\n",
      "In the future, following the ITU-R process, 3GPP will provide updates - containing details of new features specified in Release 17 and beyond - to be included in revisions of the Recommendation.\n",
      "\n",
      "Author’s footnote The completion of the submission was done thanks to the contribution of the 3GPP delegates and companies. Special thanks to: Wu Yong and Asbjörn Grövlen, Rapporteurs for the self-evaluation Study Item; Riikka Susitaival - main editor for the preparation of the final material for inclusion in M.[IMT-2020.SPECS], along with David Mazzarese, Francesco Pica, Meng Xi and many other colleagues – you know who you are!\n",
      "\n",
      "Further Reading:\n",
      "\n",
      "Recommendation ITU-R M.2150-0 (02/2021): Detailed specifications of the terrestrial radio interfaces of International Mobile Telecommunications-2020 (IMT-2020)\n",
      "\n",
      "3GPP Highlights Issue 02 (Page 10): FROM IMT-2020 TO BEYOND, An interview with Sergio Buonomo, Chief, ITU-R Study Groups Department\n",
      "3GPP meets IMT-2020\n",
      "['Kevin Flynn']\n",
      "None\n"
     ]
    }
   ],
   "source": [
    "#2\n",
    "import newspaper #사용하기 간단함, 웹사이트 별로 상이한 결과가 나타남=>뷰티풀수프..?활용하기..복잡하긴 하지만 좋은 결과\n",
    "from newspaper import Article\n",
    "\n",
    "article=Article(\"https://www.3gpp.org/news-events/2143-3gpp-meets-imt-2020\")\n",
    "article.download()\n",
    "article.parse()\n",
    "\n",
    "print(article.text)\n",
    "print(article.title)\n",
    "print(article.authors)\n",
    "print(article.publish_date)"
   ]
  },
  {
   "cell_type": "code",
   "execution_count": 76,
   "metadata": {},
   "outputs": [
    {
     "data": {
      "text/plain": [
       "['https://techcrunch.com/2021/07/07/acrylic-debut-crypto-fund/',\n",
       " 'https://techcrunch.com/2021/07/07/lacuna-raises-16-million-in-series-a-to-help-cities-manage-mobility-via-digital-twin/',\n",
       " 'https://techcrunch.com/2021/07/07/outbrain-raises-200-million-ahead-of-its-ipo/',\n",
       " 'https://techcrunch.com/2021/07/07/a-year-after-expanding-to-europe-nigerian-fintech-lidya-raises-8-3m-to-scale-lending-operations/',\n",
       " 'https://techcrunch.com/2021/07/07/satellite-operator-planet-to-go-public-in-2-8b-spac-merger/',\n",
       " 'https://techcrunch.com/2021/07/07/anyvision-the-controversial-facial-recognition-startup-has-raised-235m-led-by-softbank-and-eldridge/',\n",
       " 'https://techcrunch.com/2021/07/07/localyze-raises-12m-for-a-saas-that-supports-cross-border-hiring-and-relocation/',\n",
       " 'https://techcrunch.com/2021/07/07/youtubes-recommender-ai-still-a-horrorshow-finds-major-crowdsourced-study/',\n",
       " 'https://techcrunch.com/2021/07/07/real-estate-platform-casafari-raises-15m-to-allow-pe-to-buy-single-family-homes-at-scale/',\n",
       " 'https://techcrunch.com/2021/07/06/indian-startups-fundraise-spree/',\n",
       " 'https://techcrunch.com/2021/07/06/renegade-partners-rolls-out-its-much-anticipated-debut-fund-with-100-million/',\n",
       " 'https://techcrunch.com/2021/07/06/juni-a-vertical-neobank-for-e-commerce-and-online-marketing-companies-raises-21-5m/',\n",
       " 'https://techcrunch.com/2021/07/06/extra-crunch-roundup-video-pitch-decks-didis-regulatory-struggles-nothing-ceo-interview/',\n",
       " 'https://techcrunch.com/2021/07/06/daily-crunch-nothing-sets-july-27-rollout-for-noise-canceling-ear-1-earbuds/',\n",
       " 'https://techcrunch.com/2021/07/06/gettr-trump-social-network-hack-defaced/',\n",
       " 'https://techcrunch.com/2021/07/06/sarah-guo-kobie-fuller-casey-aylward-headline-investor-panel-at-tc-sessions-saas/',\n",
       " 'https://techcrunch.com/2021/07/06/to-stay-ahead-of-your-competitors-start-building-your-narrative-on-day-one/',\n",
       " 'https://techcrunch.com/2021/07/06/yandex-self-driving-group-partners-with-grubhub-to-bring-robotic-delivery-to-college-campuses/',\n",
       " 'https://techcrunch.com/2021/07/06/nextdoors-spac-investor-deck-paints-a-picture-of-sizable-scale-and-sticky-users/',\n",
       " 'https://techcrunch.com/2021/07/06/announcing-the-startups-pitching-at-tc-early-stage/']"
      ]
     },
     "execution_count": 76,
     "metadata": {},
     "output_type": "execute_result"
    }
   ],
   "source": [
    "#뉴스웹사이트에 들어가서 메인페이지에 있는 여러개 뉴스의 제목,웹주소, 저자, 날짜, 텍스트데이터 불러오기\n",
    "import newspaper\n",
    "site = newspaper.build(\"https://techcrunch.com/\", memoize_articles=False) \n",
    "site.article_urls()"
   ]
  },
  {
   "cell_type": "code",
   "execution_count": 80,
   "metadata": {},
   "outputs": [
    {
     "data": {
      "text/html": [
       "<div>\n",
       "<style scoped>\n",
       "    .dataframe tbody tr th:only-of-type {\n",
       "        vertical-align: middle;\n",
       "    }\n",
       "\n",
       "    .dataframe tbody tr th {\n",
       "        vertical-align: top;\n",
       "    }\n",
       "\n",
       "    .dataframe thead th {\n",
       "        text-align: right;\n",
       "    }\n",
       "</style>\n",
       "<table border=\"1\" class=\"dataframe\">\n",
       "  <thead>\n",
       "    <tr style=\"text-align: right;\">\n",
       "      <th></th>\n",
       "      <th>Title</th>\n",
       "      <th>Authors</th>\n",
       "      <th>PubDate</th>\n",
       "      <th>URL</th>\n",
       "      <th>Text</th>\n",
       "    </tr>\n",
       "  </thead>\n",
       "  <tbody>\n",
       "    <tr>\n",
       "      <th>0</th>\n",
       "      <td>Acrylic raises debut $55M solo GP fund to pain...</td>\n",
       "      <td>[]</td>\n",
       "      <td>2021-07-07</td>\n",
       "      <td>https://techcrunch.com/2021/07/07/acrylic-debu...</td>\n",
       "      <td>It’s been quite the year for crypto capital, w...</td>\n",
       "    </tr>\n",
       "    <tr>\n",
       "      <th>1</th>\n",
       "      <td>Lacuna raises $16 million in Series A to help ...</td>\n",
       "      <td>[]</td>\n",
       "      <td>2021-07-07</td>\n",
       "      <td>https://techcrunch.com/2021/07/07/lacuna-raise...</td>\n",
       "      <td>Lacuna Technologies, a startup that helps citi...</td>\n",
       "    </tr>\n",
       "    <tr>\n",
       "      <th>2</th>\n",
       "      <td>Outbrain raises $200 million ahead of its IPO ...</td>\n",
       "      <td>[]</td>\n",
       "      <td>2021-07-07</td>\n",
       "      <td>https://techcrunch.com/2021/07/07/outbrain-rai...</td>\n",
       "      <td>Outbrain, an adtech company that provides clic...</td>\n",
       "    </tr>\n",
       "    <tr>\n",
       "      <th>3</th>\n",
       "      <td>A year after expanding to Europe, Nigerian fin...</td>\n",
       "      <td>[]</td>\n",
       "      <td>2021-07-07</td>\n",
       "      <td>https://techcrunch.com/2021/07/07/a-year-after...</td>\n",
       "      <td>Nigerian fintech and lending startup Lidya tod...</td>\n",
       "    </tr>\n",
       "    <tr>\n",
       "      <th>4</th>\n",
       "      <td>Satellite operator Planet to go public in $2.8...</td>\n",
       "      <td>[]</td>\n",
       "      <td>2021-07-07</td>\n",
       "      <td>https://techcrunch.com/2021/07/07/satellite-op...</td>\n",
       "      <td>Planet, which operates a network of around 200...</td>\n",
       "    </tr>\n",
       "    <tr>\n",
       "      <th>5</th>\n",
       "      <td>AnyVision, the controversial facial recognitio...</td>\n",
       "      <td>[]</td>\n",
       "      <td>2021-07-07</td>\n",
       "      <td>https://techcrunch.com/2021/07/07/anyvision-th...</td>\n",
       "      <td>Facial recognition has been one of the more co...</td>\n",
       "    </tr>\n",
       "    <tr>\n",
       "      <th>6</th>\n",
       "      <td>Localyze raises $12M for a SaaS that supports ...</td>\n",
       "      <td>[]</td>\n",
       "      <td>2021-07-07</td>\n",
       "      <td>https://techcrunch.com/2021/07/07/localyze-rai...</td>\n",
       "      <td>Y-Combinator-backed Localyze has nabbed $12 mi...</td>\n",
       "    </tr>\n",
       "    <tr>\n",
       "      <th>7</th>\n",
       "      <td>YouTube’s recommender AI still a horrorshow, f...</td>\n",
       "      <td>[]</td>\n",
       "      <td>2021-07-07</td>\n",
       "      <td>https://techcrunch.com/2021/07/07/youtubes-rec...</td>\n",
       "      <td>For years YouTube’s video-recommending algorit...</td>\n",
       "    </tr>\n",
       "    <tr>\n",
       "      <th>8</th>\n",
       "      <td>Real estate platform Casafari raises $15M to a...</td>\n",
       "      <td>[]</td>\n",
       "      <td>2021-07-07</td>\n",
       "      <td>https://techcrunch.com/2021/07/07/real-estate-...</td>\n",
       "      <td>Just a Spotify used VC and PE backing to acqui...</td>\n",
       "    </tr>\n",
       "    <tr>\n",
       "      <th>9</th>\n",
       "      <td>Dispatch from Bangalore – TechCrunch</td>\n",
       "      <td>[]</td>\n",
       "      <td>2021-07-06</td>\n",
       "      <td>https://techcrunch.com/2021/07/06/indian-start...</td>\n",
       "      <td>Dispatch from Bangalore Indian startups have r...</td>\n",
       "    </tr>\n",
       "    <tr>\n",
       "      <th>10</th>\n",
       "      <td>Renegade Partners rolls out its much-anticipat...</td>\n",
       "      <td>[]</td>\n",
       "      <td>2021-07-06</td>\n",
       "      <td>https://techcrunch.com/2021/07/06/renegade-par...</td>\n",
       "      <td>Renegade Partners — a Bay Area-based venture f...</td>\n",
       "    </tr>\n",
       "    <tr>\n",
       "      <th>11</th>\n",
       "      <td>Juni, a ‘vertical’ neobank for e-commerce and ...</td>\n",
       "      <td>[]</td>\n",
       "      <td>2021-07-06</td>\n",
       "      <td>https://techcrunch.com/2021/07/06/juni-a-verti...</td>\n",
       "      <td>E-commerce in Europe is expected to grow 30% t...</td>\n",
       "    </tr>\n",
       "    <tr>\n",
       "      <th>12</th>\n",
       "      <td>Extra Crunch roundup: Video pitch decks, Didi’...</td>\n",
       "      <td>[]</td>\n",
       "      <td>2021-07-06</td>\n",
       "      <td>https://techcrunch.com/2021/07/06/extra-crunch...</td>\n",
       "      <td>The numbers don’t lie.\\n\\nAccording to DocSend...</td>\n",
       "    </tr>\n",
       "    <tr>\n",
       "      <th>13</th>\n",
       "      <td>Daily Crunch: Nothing sets July 27 rollout for...</td>\n",
       "      <td>[]</td>\n",
       "      <td>2021-07-06</td>\n",
       "      <td>https://techcrunch.com/2021/07/06/daily-crunch...</td>\n",
       "      <td>To get a roundup of TechCrunch’s biggest and m...</td>\n",
       "    </tr>\n",
       "    <tr>\n",
       "      <th>14</th>\n",
       "      <td>Gettr, the latest pro-Trump social network, is...</td>\n",
       "      <td>[]</td>\n",
       "      <td>2021-07-06</td>\n",
       "      <td>https://techcrunch.com/2021/07/06/gettr-trump-...</td>\n",
       "      <td>Well, that was fast. Just days after a Twitter...</td>\n",
       "    </tr>\n",
       "    <tr>\n",
       "      <th>15</th>\n",
       "      <td>Sarah Guo, Kobie Fuller &amp; Casey Aylward headli...</td>\n",
       "      <td>[]</td>\n",
       "      <td>2021-07-06</td>\n",
       "      <td>https://techcrunch.com/2021/07/06/sarah-guo-ko...</td>\n",
       "      <td>While SaaS has become the default way to deliv...</td>\n",
       "    </tr>\n",
       "    <tr>\n",
       "      <th>16</th>\n",
       "      <td>To stay ahead of your competitors, start build...</td>\n",
       "      <td>[]</td>\n",
       "      <td>2021-07-06</td>\n",
       "      <td>https://techcrunch.com/2021/07/06/to-stay-ahea...</td>\n",
       "      <td>Having a unique product used to give you at le...</td>\n",
       "    </tr>\n",
       "    <tr>\n",
       "      <th>17</th>\n",
       "      <td>Yandex Self-Driving Group partners with GrubHu...</td>\n",
       "      <td>[]</td>\n",
       "      <td>2021-07-06</td>\n",
       "      <td>https://techcrunch.com/2021/07/06/yandex-self-...</td>\n",
       "      <td>Yandex Self-Driving Group, a unit of Yandex, t...</td>\n",
       "    </tr>\n",
       "    <tr>\n",
       "      <th>18</th>\n",
       "      <td>Nextdoor’s SPAC investor deck paints a picture...</td>\n",
       "      <td>[]</td>\n",
       "      <td>2021-07-06</td>\n",
       "      <td>https://techcrunch.com/2021/07/06/nextdoors-sp...</td>\n",
       "      <td>The SPAC parade continues in this shortened we...</td>\n",
       "    </tr>\n",
       "    <tr>\n",
       "      <th>19</th>\n",
       "      <td>Announcing the startups pitching at TC Early S...</td>\n",
       "      <td>[]</td>\n",
       "      <td>2021-07-06</td>\n",
       "      <td>https://techcrunch.com/2021/07/06/announcing-t...</td>\n",
       "      <td>This Thursday and Friday, TechCrunch will host...</td>\n",
       "    </tr>\n",
       "  </tbody>\n",
       "</table>\n",
       "</div>"
      ],
      "text/plain": [
       "                                                Title Authors    PubDate  \\\n",
       "0   Acrylic raises debut $55M solo GP fund to pain...      [] 2021-07-07   \n",
       "1   Lacuna raises $16 million in Series A to help ...      [] 2021-07-07   \n",
       "2   Outbrain raises $200 million ahead of its IPO ...      [] 2021-07-07   \n",
       "3   A year after expanding to Europe, Nigerian fin...      [] 2021-07-07   \n",
       "4   Satellite operator Planet to go public in $2.8...      [] 2021-07-07   \n",
       "5   AnyVision, the controversial facial recognitio...      [] 2021-07-07   \n",
       "6   Localyze raises $12M for a SaaS that supports ...      [] 2021-07-07   \n",
       "7   YouTube’s recommender AI still a horrorshow, f...      [] 2021-07-07   \n",
       "8   Real estate platform Casafari raises $15M to a...      [] 2021-07-07   \n",
       "9                Dispatch from Bangalore – TechCrunch      [] 2021-07-06   \n",
       "10  Renegade Partners rolls out its much-anticipat...      [] 2021-07-06   \n",
       "11  Juni, a ‘vertical’ neobank for e-commerce and ...      [] 2021-07-06   \n",
       "12  Extra Crunch roundup: Video pitch decks, Didi’...      [] 2021-07-06   \n",
       "13  Daily Crunch: Nothing sets July 27 rollout for...      [] 2021-07-06   \n",
       "14  Gettr, the latest pro-Trump social network, is...      [] 2021-07-06   \n",
       "15  Sarah Guo, Kobie Fuller & Casey Aylward headli...      [] 2021-07-06   \n",
       "16  To stay ahead of your competitors, start build...      [] 2021-07-06   \n",
       "17  Yandex Self-Driving Group partners with GrubHu...      [] 2021-07-06   \n",
       "18  Nextdoor’s SPAC investor deck paints a picture...      [] 2021-07-06   \n",
       "19  Announcing the startups pitching at TC Early S...      [] 2021-07-06   \n",
       "\n",
       "                                                  URL  \\\n",
       "0   https://techcrunch.com/2021/07/07/acrylic-debu...   \n",
       "1   https://techcrunch.com/2021/07/07/lacuna-raise...   \n",
       "2   https://techcrunch.com/2021/07/07/outbrain-rai...   \n",
       "3   https://techcrunch.com/2021/07/07/a-year-after...   \n",
       "4   https://techcrunch.com/2021/07/07/satellite-op...   \n",
       "5   https://techcrunch.com/2021/07/07/anyvision-th...   \n",
       "6   https://techcrunch.com/2021/07/07/localyze-rai...   \n",
       "7   https://techcrunch.com/2021/07/07/youtubes-rec...   \n",
       "8   https://techcrunch.com/2021/07/07/real-estate-...   \n",
       "9   https://techcrunch.com/2021/07/06/indian-start...   \n",
       "10  https://techcrunch.com/2021/07/06/renegade-par...   \n",
       "11  https://techcrunch.com/2021/07/06/juni-a-verti...   \n",
       "12  https://techcrunch.com/2021/07/06/extra-crunch...   \n",
       "13  https://techcrunch.com/2021/07/06/daily-crunch...   \n",
       "14  https://techcrunch.com/2021/07/06/gettr-trump-...   \n",
       "15  https://techcrunch.com/2021/07/06/sarah-guo-ko...   \n",
       "16  https://techcrunch.com/2021/07/06/to-stay-ahea...   \n",
       "17  https://techcrunch.com/2021/07/06/yandex-self-...   \n",
       "18  https://techcrunch.com/2021/07/06/nextdoors-sp...   \n",
       "19  https://techcrunch.com/2021/07/06/announcing-t...   \n",
       "\n",
       "                                                 Text  \n",
       "0   It’s been quite the year for crypto capital, w...  \n",
       "1   Lacuna Technologies, a startup that helps citi...  \n",
       "2   Outbrain, an adtech company that provides clic...  \n",
       "3   Nigerian fintech and lending startup Lidya tod...  \n",
       "4   Planet, which operates a network of around 200...  \n",
       "5   Facial recognition has been one of the more co...  \n",
       "6   Y-Combinator-backed Localyze has nabbed $12 mi...  \n",
       "7   For years YouTube’s video-recommending algorit...  \n",
       "8   Just a Spotify used VC and PE backing to acqui...  \n",
       "9   Dispatch from Bangalore Indian startups have r...  \n",
       "10  Renegade Partners — a Bay Area-based venture f...  \n",
       "11  E-commerce in Europe is expected to grow 30% t...  \n",
       "12  The numbers don’t lie.\\n\\nAccording to DocSend...  \n",
       "13  To get a roundup of TechCrunch’s biggest and m...  \n",
       "14  Well, that was fast. Just days after a Twitter...  \n",
       "15  While SaaS has become the default way to deliv...  \n",
       "16  Having a unique product used to give you at le...  \n",
       "17  Yandex Self-Driving Group, a unit of Yandex, t...  \n",
       "18  The SPAC parade continues in this shortened we...  \n",
       "19  This Thursday and Friday, TechCrunch will host...  "
      ]
     },
     "execution_count": 80,
     "metadata": {},
     "output_type": "execute_result"
    }
   ],
   "source": [
    "#첫번째 웹페이지 주소를 대상으로 다운로드하고, 해석하고, 제목이랑 url을 추출함 ...여기서부터 오류남....\n",
    "\n",
    "allarticles=[]\n",
    "for i in range(len(site.article_urls())):\n",
    "    article = Article(site.article_urls() [i])\n",
    "    article.download()\n",
    "    article.parse()\n",
    "    allarticles.append(article)\n",
    "    \n",
    "import pandas as pd\n",
    "df=pd.DataFrame(columns=['Title', 'Authors', 'PubDate', 'URL', 'Text'])\n",
    "                         \n",
    "for i in range(len(allarticles)):\n",
    "                         row=dict(zip(['Title','Authors','PubDate','URL','Text'],[allarticles[i].title, allarticles[i].authors, allarticles[i].publish_date, allarticles[i].url, allarticles[i].text]))\n",
    "                         row_s = pd.Series(row)\n",
    "                         row_s.name=i\n",
    "                         df = df.append(row_s)\n",
    "df"
   ]
  },
  {
   "cell_type": "code",
   "execution_count": 36,
   "metadata": {},
   "outputs": [
    {
     "name": "stdout",
     "output_type": "stream",
     "text": [
      "U.S. Says Thousands Of Yemenis Can’t Be Deported From U.S.—5th Group Protected This Year\n",
      "Adams Wins NYC Mayoral Primary By Just 1 Point, AP Says\n",
      "Black Louisiana Lawmakers Request Federal Probe Into State Police After Black Man Dies In Custody\n",
      "RNC Denies Russian Government Hacked Its Computers\n",
      "McConnell Vows To ‘Make It Hard’ For Democrats To Pass Reconciliation Bill\n",
      "Miami Condo Collapse: Death Toll Rises To 36 As Search Resumes After Building Demolition\n",
      "Cuomo Declares Disaster Emergency On Gun Violence, Labeling It A ‘New Epidemic’\n",
      "Maryland Says 100% Of June Covid Deaths Were Among The Unvaccinated, As Early Data Shows Similar Trend Nationally\n",
      "Medicare Would Save $2.6 Billion Buying Some Generic Drugs At Costco Prices, Researchers Find\n",
      "Hundreds Likely Dead After Historic Heat Wave Hits Pacific Northwest And Canada\n",
      "White House Says U.S. Not ‘On Track’ For New Covid Restrictions As Delta Variant Spreads\n",
      "Ex-Surgeon General: People ‘Are Dying’ Because FDA Hasn’t Fully Approved A Covid-19 Vaccine\n",
      "Bahamas Flight Postponed After High School Students Refuse To Wear Masks\n",
      "ESPN’s Rachel Nichols Pulled As NBA Finals Sideline Reporter In Last-Minute Move\n",
      "Pentagon Scraps Microsoft’s $10 Billion Cloud Computing Deal After Lawsuit From Amazon\n",
      "Pfizer Shot Much Less Effective Against Delta, Israel Study Shows — Here’s What You Need To Know About Variants And Vaccines\n",
      "‘Unheard Of’: Oklahoma GOP Chair Backs Challenge To Senate Republican Over Withdrawn Election Objection\n",
      "New Record Set For Most Expensive Sports Card: Steph Curry Rookie Sells For $5.9 Million\n",
      "Capitol Rioter Killed In Motorcycle Crash While Awaiting Trial\n",
      "Capitol Police Opening Field Offices In California, Florida To Investigate Threats To Lawmakers\n",
      "DOJ Still Searching For At Least 300 Capitol Riot Suspects—Including Pipe Bomb Planter—Six Months After Insurrection\n",
      "https://www.forbes.com/sites/graisondangor/2021/07/06/us-says-thousands-of-yemenis-cant-be-deported-from-us-5th-group-protected-this-year/\n",
      "https://www.forbes.com/sites/joewalsh/2021/07/06/adams-wins-nyc-mayoral-primary-by-just-1-point-ap-says/\n",
      "https://www.forbes.com/sites/nicholasreimann/2021/07/06/black-louisiana-lawmakers-request-federal-probe-into-state-police-after-black-man-dies-in-custody/\n",
      "https://www.forbes.com/sites/joewalsh/2021/07/06/rnc-denies-russian-government-hacked-its-computers/\n",
      "https://www.forbes.com/sites/andrewsolender/2021/07/06/mcconnell-vows-to-make-it-hard-for-democrats-to-pass-reconciliation-bill/\n",
      "https://www.forbes.com/sites/nicholasreimann/2021/07/06/miami-condo-collapse-death-toll-rises-to-36-as-search-resumes-after-building-demolition/\n",
      "https://www.forbes.com/sites/jackbrewster/2021/07/06/cuomo-declares-disaster-emergency-on-gun-violence-labeling-it-a-new-epidemic/\n",
      "https://www.forbes.com/sites/jemimamcevoy/2021/07/06/maryland-says-100-of-june-covid-deaths-were-among-unvaccinated-as-early-data-shows-similar-trend-nationally/\n",
      "https://www.forbes.com/sites/graisondangor/2021/07/06/medicare-would-save-26-billion-buying-some-generic-drugs-at-costco-prices-researchers-find/\n",
      "https://www.forbes.com/sites/nicholasreimann/2021/07/06/hundreds-likely-dead-after-historic-heatwave-hits-pacific-northwest-and-canada/\n",
      "https://www.forbes.com/sites/andrewsolender/2021/07/06/white-house-says-us-not-on-track-for-new-covid-restrictions-as-delta-variant-spreads/\n",
      "https://www.forbes.com/sites/jackbrewster/2021/07/06/ex-surgeon-general-people-are-dying-because-fda-hasnt-fully-approved-a-covid-19-vaccine/\n",
      "https://www.forbes.com/sites/alisondurkee/2021/07/06/bahamas-flight-postponed-after-high-school-students-refuse-to-wear-masks/\n",
      "https://www.forbes.com/sites/nicholasreimann/2021/07/06/espns-rachel-nichols-pulled-as-nba-finals-sideline-reporter-in-last-minute-move/\n",
      "https://www.forbes.com/sites/joewalsh/2021/07/06/pentagon-scraps-microsofts-10-billion-cloud-computing-deal-after-lawsuit-from-amazon/\n",
      "https://www.forbes.com/sites/roberthart/2021/07/06/pfizer-shot-much-less-effective-against-delta-israel-study-shows---heres-what-you-need-to-know-about-variants-and-vaccines/\n",
      "https://www.forbes.com/sites/andrewsolender/2021/07/06/unheard-of-oklahoma-gop-chair-backs-challenge-to-senate-republican-over-withdrawn-election-objection/\n",
      "https://www.forbes.com/sites/tommybeer/2021/07/06/new-record-set-for-most-expensive-sports-card-steph-curry-rookie-sells-for-59-million/\n",
      "https://www.forbes.com/sites/jemimamcevoy/2021/07/06/capitol-rioter-killed-in-motorcycle-crash-while-awaiting-trial/\n",
      "https://www.forbes.com/sites/andrewsolender/2021/07/06/capitol-police-opening-field-offices-in-california-florida-to-investigate-threats-to-lawmakers/\n",
      "https://www.forbes.com/sites/jemimamcevoy/2021/07/06/doj-still-searching-for-at-least-300-capitol-riot-suspects-including-pipe-bomb-planter-six-months-after-insurrection/\n"
     ]
    }
   ],
   "source": [
    "#Forbes.com스크랩들의 공통점을 F12를 눌러서 파악한다\n",
    "import urllib.request as ure\n",
    "from bs4 import BeautifulSoup as bs\n",
    "\n",
    "news='http://www.forbes.com/'\n",
    "soup=bs(ure.urlopen(news).read(), 'html.parser')\n",
    "\n",
    "soup.find_all('a', {\"class\": \"happening__title\"})\n",
    "\n",
    "for i in soup.find_all('a', {\"class\":\"happening__title\"}):\n",
    "    print(i.text)\n",
    "for i in soup.find_all('a', {\"class\":\"happening__title\"}):\n",
    "    print(i.get('href'))"
   ]
  },
  {
   "cell_type": "code",
   "execution_count": 40,
   "metadata": {},
   "outputs": [
    {
     "name": "stdout",
     "output_type": "stream",
     "text": [
      "A Hong Kong court on Tuesday sentenced an American lawyer to four and a half months in prison for clashing with a plainclothes police officer during the 2019 pro-democracy protests in the city, a move that comes at a time when several foreign workers are considering leaving the financial hub following Beijing’s crackdown on all forms of dissent in the city.\n",
      "Riot police secure the area outside the Tung Chung MTR station on September 7, 2019 in Hong Kong, ... [+] China. \n",
      "Samuel Bickett, a 37-year old former Bank of America Merrill Lynch employee, was charged with assaulting a police officer and was handed a jail term of four months and two weeks, Bloomberg reported.\n",
      "The judge who handed out the ruling described Bickett’s actions as a “serious threat to public order.”\n",
      "Bickett had been found guilty on the assault charge last month and was denied bail.\n",
      "The lawyer had pleaded not guilty last month and had accused the off-duty officer of needlessly brandishing his baton at him.\n",
      "The police officer in question, however, told the court that Bickett knelt on his chest and slapped him while he tried to snatch the baton.\n",
      "In a statement published after his sentencing, Bickett said the verdict was “outrageous” and was “entirely unsupportable by both the law and the evidence in this case.” Bickett planned to appeal the verdict and said he “not rest until justice is done.”\n",
      "The U.S. State Department has listed Hong Kong under a Level 3 Travel Advisory which dissuades Americans from traveling to the city. The advisory cites “arbitrary enforcement of local laws and COVID-19-related travel restrictions.”\n",
      "Last week, a bipartisan group of U.S. lawmakers wrote to President Joe Biden drawing his attention to China’s “ceaseless assault” on democracy in Hong Kong. The lawmakers have asked Biden to share what his administration was “doing to coordinate with allies and partners to ensure that the private sector” knows about the risk to U.S. citizens and interests in Hong Kong posed by the city’s national security law. In 2019, several Hong Kong residents organized mass protests across the city to oppose a law that would have allowed Hong Kong’s government to detain and extradite people to mainland China. Following the protests, Beijing moved to exert stronger control over Hong Kong and imposed a draconian national security law in June 2020 that gave sweeping powers to the city’s authorities to target political dissidents, and established secret police and a national security council to oversee its implementation.\n",
      "Hong Kong Court Jails U.S. Lawyer Over Scuffle With Policeman (Bloomberg)\n",
      "American lawyer convicted of assaulting Hong Kong police officer during anti-government protests (South China Morning Post)\n",
      "I am a Breaking News Reporter at Forbes, with a focus on covering important tech policy and business news. Graduated from Columbia University with an MA in Business and…\n",
      "I am a Breaking News Reporter at Forbes, with a focus on covering important tech policy and business news. Graduated from Columbia University with an MA in Business and\n",
      "I am a Breaking News Reporter at Forbes, with a focus on covering important tech policy and business news. Graduated from Columbia University with an MA in Business and Economics Journalism in 2019. Worked as a journalist in New Delhi, India from 2014 to 2018. Have a news tip? DMs are open on Twitter @SiladityaRay or drop me an email at siladitya@protonmail.com.\n",
      "I am a Breaking News Reporter at Forbes, with a focus on covering important tech policy and business news. Graduated from Columbia University with an MA in Business and Economics Journalism in 2019. Worked as a journalist in New Delhi, India from 2014 to 2018. Have a news tip? DMs are open on Twitter @SiladityaRay or drop me an email at siladitya@protonmail.com.\n"
     ]
    }
   ],
   "source": [
    "#텍스트데이터는 한번 더 적용\n",
    "article1 = 'https://www.forbes.com/sites/siladityaray/2021/07/06/us-lawyer-handed-prison-sentence-in-hong-kong-over-scuffle-with-police-during-2019-protests/?sh=ff8d6ab3adea'\n",
    "\n",
    "soup2 = bs(ure.urlopen(article1).read(),'html.parser')\n",
    "\n",
    "for i in soup2.find_all('p'):\n",
    "            print(i.text)"
   ]
  },
  {
   "cell_type": "code",
   "execution_count": 41,
   "metadata": {},
   "outputs": [],
   "source": [
    "happening=soup.find_all('a', {\"class\":\"happening__title\"})\n",
    "\n",
    "rows=[]\n",
    "for i in range(len(happening)):\n",
    "    happeningtitle=happening[i].text\n",
    "    happeningurl=happening[i].get('href')\n",
    "    soup2=bs(ure.urlopen(happeningurl).read(), 'html.parser')\n",
    "    txt=\"\"\n",
    "    for j in soup2.find_all('p'):\n",
    "        txt=txt+j.text\n",
    "    rows.append({'Title': happeningtitle, 'URL':happeningurl, 'Text':txt})"
   ]
  },
  {
   "cell_type": "code",
   "execution_count": 43,
   "metadata": {},
   "outputs": [
    {
     "data": {
      "text/html": [
       "<div>\n",
       "<style scoped>\n",
       "    .dataframe tbody tr th:only-of-type {\n",
       "        vertical-align: middle;\n",
       "    }\n",
       "\n",
       "    .dataframe tbody tr th {\n",
       "        vertical-align: top;\n",
       "    }\n",
       "\n",
       "    .dataframe thead th {\n",
       "        text-align: right;\n",
       "    }\n",
       "</style>\n",
       "<table border=\"1\" class=\"dataframe\">\n",
       "  <thead>\n",
       "    <tr style=\"text-align: right;\">\n",
       "      <th></th>\n",
       "      <th>Title</th>\n",
       "      <th>URL</th>\n",
       "      <th>Text</th>\n",
       "    </tr>\n",
       "  </thead>\n",
       "  <tbody>\n",
       "    <tr>\n",
       "      <th>0</th>\n",
       "      <td>U.S. Says Thousands Of Yemenis Can’t Be Deport...</td>\n",
       "      <td>https://www.forbes.com/sites/graisondangor/202...</td>\n",
       "      <td>Nearly 2,200 people from Yemen in the U.S. can...</td>\n",
       "    </tr>\n",
       "    <tr>\n",
       "      <th>1</th>\n",
       "      <td>Adams Wins NYC Mayoral Primary By Just 1 Point...</td>\n",
       "      <td>https://www.forbes.com/sites/joewalsh/2021/07/...</td>\n",
       "      <td>Eric Adams has defeated Kathryn Garcia by just...</td>\n",
       "    </tr>\n",
       "    <tr>\n",
       "      <th>2</th>\n",
       "      <td>Black Louisiana Lawmakers Request Federal Prob...</td>\n",
       "      <td>https://www.forbes.com/sites/nicholasreimann/2...</td>\n",
       "      <td>Lawmakers with the Louisiana Legislative Black...</td>\n",
       "    </tr>\n",
       "    <tr>\n",
       "      <th>3</th>\n",
       "      <td>RNC Denies Russian Government Hacked Its Compu...</td>\n",
       "      <td>https://www.forbes.com/sites/joewalsh/2021/07/...</td>\n",
       "      <td>A third-party IT company tied to the Republica...</td>\n",
       "    </tr>\n",
       "    <tr>\n",
       "      <th>4</th>\n",
       "      <td>McConnell Vows To ‘Make It Hard’ For Democrats...</td>\n",
       "      <td>https://www.forbes.com/sites/andrewsolender/20...</td>\n",
       "      <td>Senate Minority Leader Mitch McConnell said Tu...</td>\n",
       "    </tr>\n",
       "    <tr>\n",
       "      <th>5</th>\n",
       "      <td>Miami Condo Collapse: Death Toll Rises To 36 A...</td>\n",
       "      <td>https://www.forbes.com/sites/nicholasreimann/2...</td>\n",
       "      <td>At least 36 people are now confirmed dead whil...</td>\n",
       "    </tr>\n",
       "    <tr>\n",
       "      <th>6</th>\n",
       "      <td>Cuomo Declares Disaster Emergency On Gun Viole...</td>\n",
       "      <td>https://www.forbes.com/sites/jackbrewster/2021...</td>\n",
       "      <td>Just two weeks after his emergency powers agai...</td>\n",
       "    </tr>\n",
       "    <tr>\n",
       "      <th>7</th>\n",
       "      <td>Maryland Says 100% Of June Covid Deaths Were A...</td>\n",
       "      <td>https://www.forbes.com/sites/jemimamcevoy/2021...</td>\n",
       "      <td>Every person who died from Covid-19 in Marylan...</td>\n",
       "    </tr>\n",
       "    <tr>\n",
       "      <th>8</th>\n",
       "      <td>Medicare Would Save $2.6 Billion Buying Some G...</td>\n",
       "      <td>https://www.forbes.com/sites/graisondangor/202...</td>\n",
       "      <td>Medicare pays billions of dollars more for com...</td>\n",
       "    </tr>\n",
       "    <tr>\n",
       "      <th>9</th>\n",
       "      <td>Hundreds Likely Dead After Historic Heat Wave ...</td>\n",
       "      <td>https://www.forbes.com/sites/nicholasreimann/2...</td>\n",
       "      <td>The death toll in Oregon alone is now more tha...</td>\n",
       "    </tr>\n",
       "    <tr>\n",
       "      <th>10</th>\n",
       "      <td>White House Says U.S. Not ‘On Track’ For New C...</td>\n",
       "      <td>https://www.forbes.com/sites/andrewsolender/20...</td>\n",
       "      <td>White House press secretary Jen Psaki said Tue...</td>\n",
       "    </tr>\n",
       "    <tr>\n",
       "      <th>11</th>\n",
       "      <td>Ex-Surgeon General: People ‘Are Dying’ Because...</td>\n",
       "      <td>https://www.forbes.com/sites/jackbrewster/2021...</td>\n",
       "      <td>Former U.S. Surgeon General Jerome Adams on Tu...</td>\n",
       "    </tr>\n",
       "    <tr>\n",
       "      <th>12</th>\n",
       "      <td>Bahamas Flight Postponed After High School Stu...</td>\n",
       "      <td>https://www.forbes.com/sites/alisondurkee/2021...</td>\n",
       "      <td>An American Airlines flight from Charlotte, No...</td>\n",
       "    </tr>\n",
       "    <tr>\n",
       "      <th>13</th>\n",
       "      <td>ESPN’s Rachel Nichols Pulled As NBA Finals Sid...</td>\n",
       "      <td>https://www.forbes.com/sites/nicholasreimann/2...</td>\n",
       "      <td>Longtime ESPN reporter Rachel Nichols will not...</td>\n",
       "    </tr>\n",
       "    <tr>\n",
       "      <th>14</th>\n",
       "      <td>Pentagon Scraps Microsoft’s $10 Billion Cloud ...</td>\n",
       "      <td>https://www.forbes.com/sites/joewalsh/2021/07/...</td>\n",
       "      <td>The Department of Defense is canceling a $10 b...</td>\n",
       "    </tr>\n",
       "    <tr>\n",
       "      <th>15</th>\n",
       "      <td>Pfizer Shot Much Less Effective Against Delta,...</td>\n",
       "      <td>https://www.forbes.com/sites/roberthart/2021/0...</td>\n",
       "      <td>Pfizer’s Covid-19 vaccine is significantly les...</td>\n",
       "    </tr>\n",
       "    <tr>\n",
       "      <th>16</th>\n",
       "      <td>‘Unheard Of’: Oklahoma GOP Chair Backs Challen...</td>\n",
       "      <td>https://www.forbes.com/sites/andrewsolender/20...</td>\n",
       "      <td>The chair of the Oklahoma Republican Party has...</td>\n",
       "    </tr>\n",
       "    <tr>\n",
       "      <th>17</th>\n",
       "      <td>New Record Set For Most Expensive Sports Card:...</td>\n",
       "      <td>https://www.forbes.com/sites/tommybeer/2021/07...</td>\n",
       "      <td>Alt Fund II, an investment fund managed by alt...</td>\n",
       "    </tr>\n",
       "    <tr>\n",
       "      <th>18</th>\n",
       "      <td>Capitol Rioter Killed In Motorcycle Crash Whil...</td>\n",
       "      <td>https://www.forbes.com/sites/jemimamcevoy/2021...</td>\n",
       "      <td>A 34-year-old Texas man charged with multiple ...</td>\n",
       "    </tr>\n",
       "    <tr>\n",
       "      <th>19</th>\n",
       "      <td>Capitol Police Opening Field Offices In Califo...</td>\n",
       "      <td>https://www.forbes.com/sites/andrewsolender/20...</td>\n",
       "      <td>The Capitol Police on Tuesday announced the cr...</td>\n",
       "    </tr>\n",
       "    <tr>\n",
       "      <th>20</th>\n",
       "      <td>DOJ Still Searching For At Least 300 Capitol R...</td>\n",
       "      <td>https://www.forbes.com/sites/jemimamcevoy/2021...</td>\n",
       "      <td>Though more than 500 people have already been ...</td>\n",
       "    </tr>\n",
       "  </tbody>\n",
       "</table>\n",
       "</div>"
      ],
      "text/plain": [
       "                                                Title  \\\n",
       "0   U.S. Says Thousands Of Yemenis Can’t Be Deport...   \n",
       "1   Adams Wins NYC Mayoral Primary By Just 1 Point...   \n",
       "2   Black Louisiana Lawmakers Request Federal Prob...   \n",
       "3   RNC Denies Russian Government Hacked Its Compu...   \n",
       "4   McConnell Vows To ‘Make It Hard’ For Democrats...   \n",
       "5   Miami Condo Collapse: Death Toll Rises To 36 A...   \n",
       "6   Cuomo Declares Disaster Emergency On Gun Viole...   \n",
       "7   Maryland Says 100% Of June Covid Deaths Were A...   \n",
       "8   Medicare Would Save $2.6 Billion Buying Some G...   \n",
       "9   Hundreds Likely Dead After Historic Heat Wave ...   \n",
       "10  White House Says U.S. Not ‘On Track’ For New C...   \n",
       "11  Ex-Surgeon General: People ‘Are Dying’ Because...   \n",
       "12  Bahamas Flight Postponed After High School Stu...   \n",
       "13  ESPN’s Rachel Nichols Pulled As NBA Finals Sid...   \n",
       "14  Pentagon Scraps Microsoft’s $10 Billion Cloud ...   \n",
       "15  Pfizer Shot Much Less Effective Against Delta,...   \n",
       "16  ‘Unheard Of’: Oklahoma GOP Chair Backs Challen...   \n",
       "17  New Record Set For Most Expensive Sports Card:...   \n",
       "18  Capitol Rioter Killed In Motorcycle Crash Whil...   \n",
       "19  Capitol Police Opening Field Offices In Califo...   \n",
       "20  DOJ Still Searching For At Least 300 Capitol R...   \n",
       "\n",
       "                                                  URL  \\\n",
       "0   https://www.forbes.com/sites/graisondangor/202...   \n",
       "1   https://www.forbes.com/sites/joewalsh/2021/07/...   \n",
       "2   https://www.forbes.com/sites/nicholasreimann/2...   \n",
       "3   https://www.forbes.com/sites/joewalsh/2021/07/...   \n",
       "4   https://www.forbes.com/sites/andrewsolender/20...   \n",
       "5   https://www.forbes.com/sites/nicholasreimann/2...   \n",
       "6   https://www.forbes.com/sites/jackbrewster/2021...   \n",
       "7   https://www.forbes.com/sites/jemimamcevoy/2021...   \n",
       "8   https://www.forbes.com/sites/graisondangor/202...   \n",
       "9   https://www.forbes.com/sites/nicholasreimann/2...   \n",
       "10  https://www.forbes.com/sites/andrewsolender/20...   \n",
       "11  https://www.forbes.com/sites/jackbrewster/2021...   \n",
       "12  https://www.forbes.com/sites/alisondurkee/2021...   \n",
       "13  https://www.forbes.com/sites/nicholasreimann/2...   \n",
       "14  https://www.forbes.com/sites/joewalsh/2021/07/...   \n",
       "15  https://www.forbes.com/sites/roberthart/2021/0...   \n",
       "16  https://www.forbes.com/sites/andrewsolender/20...   \n",
       "17  https://www.forbes.com/sites/tommybeer/2021/07...   \n",
       "18  https://www.forbes.com/sites/jemimamcevoy/2021...   \n",
       "19  https://www.forbes.com/sites/andrewsolender/20...   \n",
       "20  https://www.forbes.com/sites/jemimamcevoy/2021...   \n",
       "\n",
       "                                                 Text  \n",
       "0   Nearly 2,200 people from Yemen in the U.S. can...  \n",
       "1   Eric Adams has defeated Kathryn Garcia by just...  \n",
       "2   Lawmakers with the Louisiana Legislative Black...  \n",
       "3   A third-party IT company tied to the Republica...  \n",
       "4   Senate Minority Leader Mitch McConnell said Tu...  \n",
       "5   At least 36 people are now confirmed dead whil...  \n",
       "6   Just two weeks after his emergency powers agai...  \n",
       "7   Every person who died from Covid-19 in Marylan...  \n",
       "8   Medicare pays billions of dollars more for com...  \n",
       "9   The death toll in Oregon alone is now more tha...  \n",
       "10  White House press secretary Jen Psaki said Tue...  \n",
       "11  Former U.S. Surgeon General Jerome Adams on Tu...  \n",
       "12  An American Airlines flight from Charlotte, No...  \n",
       "13  Longtime ESPN reporter Rachel Nichols will not...  \n",
       "14  The Department of Defense is canceling a $10 b...  \n",
       "15  Pfizer’s Covid-19 vaccine is significantly les...  \n",
       "16  The chair of the Oklahoma Republican Party has...  \n",
       "17  Alt Fund II, an investment fund managed by alt...  \n",
       "18  A 34-year-old Texas man charged with multiple ...  \n",
       "19  The Capitol Police on Tuesday announced the cr...  \n",
       "20  Though more than 500 people have already been ...  "
      ]
     },
     "execution_count": 43,
     "metadata": {},
     "output_type": "execute_result"
    }
   ],
   "source": [
    "import pandas as pd\n",
    "df=pd.DataFrame(rows, columns=['Title', 'URL', 'Text'])\n",
    "df"
   ]
  },
  {
   "cell_type": "code",
   "execution_count": null,
   "metadata": {},
   "outputs": [],
   "source": []
  }
 ],
 "metadata": {
  "kernelspec": {
   "display_name": "Python 3 (ipykernel)",
   "language": "python",
   "name": "python3"
  },
  "language_info": {
   "codemirror_mode": {
    "name": "ipython",
    "version": 3
   },
   "file_extension": ".py",
   "mimetype": "text/x-python",
   "name": "python",
   "nbconvert_exporter": "python",
   "pygments_lexer": "ipython3",
   "version": "3.8.5"
  }
 },
 "nbformat": 4,
 "nbformat_minor": 4
}
